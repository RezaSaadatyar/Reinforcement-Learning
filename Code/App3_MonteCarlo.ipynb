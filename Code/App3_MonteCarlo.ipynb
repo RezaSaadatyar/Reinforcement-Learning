{
 "cells": [
  {
   "cell_type": "markdown",
   "source": [
    "*Reinforcement learning (2023-2024)*\n",
    " - Monte Carlo Prediction\n",
    "   - First-visit MC prediction, for estimating $V \\approx \\nu_\\pi$\n",
    "   - Monte Carlo ES (Exploring Starts), for estimating $\\pi \\approx \\pi_.$\n",
    "   - On-policy ﬁrst-visit MC control (for $\\epsilon$-soft policies), estimates $\\pi \\approx \\pi_.$\n",
    "\n",
    "\n",
    "*Presented by: Reza Saadatyar*\n",
    "*E-mail: Reza.Saadatyar92@gmail.com*"
   ],
   "metadata": {
    "collapsed": false,
    "pycharm": {
     "name": "#%% md\n"
    }
   }
  },
  {
   "cell_type": "code",
   "execution_count": 1,
   "outputs": [],
   "source": [
    "import time\n",
    "import imageio\n",
    "import numpy as np\n",
    "from tqdm import tqdm\n",
    "import matplotlib.pyplot as plt\n",
    "from IPython.display import display, clear_output"
   ],
   "metadata": {
    "collapsed": false,
    "pycharm": {
     "name": "#%%\n"
    }
   }
  },
  {
   "cell_type": "code",
   "execution_count": 46,
   "outputs": [],
   "source": [
    "# ================================================ Environment ========================================\n",
    "def environment (all_states, all_states_j, all_actions_k, terminal_state):\n",
    "    state1, state2 = all_states_j\n",
    "    action1, action2 = all_actions_k                            # Plane velocity in vertical and horizontal directions\n",
    "    new_state = [state1 + action1, state2 + action2]\n",
    "    if np.sum(np.all(np.equal(new_state, all_states), axis=1)): # Check new state in all states\n",
    "        if (new_state == terminal_state).all():\n",
    "            reward = 10\n",
    "        else:\n",
    "            reward = -1\n",
    "    else:\n",
    "        new_state = all_states_j\n",
    "        reward = -10\n",
    "    return new_state, reward\n",
    "# ================================================== Plot ==============================================\n",
    "def plot(plan, all_states, all_actions, policy, start_point, Num_epochs, end_point, gamma, epsilon, type, dis, plot_gif,Q_prediction):\n",
    "\n",
    "    FinalTimeStep =1000000\n",
    "    if plot_gif:\n",
    "        FinalTimeStep = plan.shape[0]*plan.shape[1]\n",
    "\n",
    "    states = np.zeros((FinalTimeStep , 2), dtype=int)\n",
    "    actions = np.zeros((FinalTimeStep , 2),  dtype=int)\n",
    "    rewards = np.zeros((FinalTimeStep , 1))\n",
    "    states[0,:]=start_point[0:2]\n",
    "    Count = 0\n",
    "\n",
    "    if dis:\n",
    "        fig, ax = plt.subplots(figsize=(4.5,4.5))\n",
    "        !mkdir Images\n",
    "    filenames = []\n",
    "\n",
    "    while 1:\n",
    "        if Count > FinalTimeStep -2:\n",
    "            break\n",
    "        if dis:\n",
    "            plan2 = np.copy(plan)\n",
    "            plan2[states[Count, 0], states[Count, 1]] = 3  # 3: Change the color start state\n",
    "            plan2[end_point[0], end_point[1]] = 2  # 2: Change the color terminal state\n",
    "            ax.cla()\n",
    "            ax.imshow(plan2, cmap='winter')\n",
    "            plt.title([f\"gamma:{gamma}; Time Step:{Count}; Num_epochs:{Num_epochs}; {type}\"],fontsize=8)\n",
    "            plt.text(start_point[1] - 0.4, start_point[0], 'Start', fontsize=10, color='r', fontweight='bold')\n",
    "            plt.text(end_point[1] - 0.3, end_point[0], 'End', fontsize=10, color='r', fontweight='bold')\n",
    "            display(fig)\n",
    "            clear_output(wait=True)\n",
    "            if Count == 0:\n",
    "               time.sleep(1)\n",
    "            else:\n",
    "               time.sleep(0.3)\n",
    "\n",
    "            if plot_gif:\n",
    "                filename = f'Images/{Count}.png'\n",
    "                filenames.append(filename)\n",
    "                plt.savefig(filename, facecolor='white')\n",
    "\n",
    "        if np.random.rand(1)>epsilon:\n",
    "            Ind = policy[np.argmax(np.sum(np.equal(all_states, states[Count, :]), axis=1))]\n",
    "        else:\n",
    "            Ind = np.random.randint(low=0, high=all_actions.shape[0], size=1)\n",
    "\n",
    "        if (Q_prediction==1) and (Count==0):\n",
    "            actions[Count, :] = start_point[2:4]\n",
    "        else:\n",
    "            actions[Count, :] = all_actions[Ind, :]\n",
    "\n",
    "        [states[Count + 1, :], rewards[Count + 1, :]] = environment(all_states, states[Count, :], actions[Count, :], end_point)  # Environment\n",
    "\n",
    "        if (states[Count + 1, :] == end_point).all():\n",
    "            if dis:\n",
    "                plan2 = np.copy(plan)\n",
    "                plan2[states[Count + 1, 0], states[Count + 1, 1]] = 3\n",
    "                plan2[end_point[0], end_point[1]] = 2\n",
    "                plt.imshow(plan2, cmap='winter')\n",
    "                plt.title([f\"gamma:{gamma}; Time Step:{Count}; Num_epochs:{Num_epochs}; {type}\"], fontsize=8)\n",
    "                if plot_gif:\n",
    "                    filename = f'Images/{Count+1}.png'\n",
    "                    filenames.append(filename)\n",
    "                    plt.savefig(filename, facecolor='white')\n",
    "            break\n",
    "        Count = Count + 1\n",
    "\n",
    "    states = np.delete(states, slice(Count + 2, states.shape[0]), 0)\n",
    "    rewards = (np.delete(rewards, slice(Count + 2, rewards.shape[0]), 0)).flatten()\n",
    "    actions = np.delete(actions, slice(Count + 2, actions.shape[0]), 0)\n",
    "\n",
    "    if plot_gif:\n",
    "        with imageio.get_writer(f\"Images/{type}; gamma({gamma}).gif\", mode='I') as writer:    # Save gif format\n",
    "         for filename in filenames:\n",
    "             image = imageio.v2.imread(filename)\n",
    "             writer.append_data(image)\n",
    "\n",
    "    return states, rewards, actions"
   ],
   "metadata": {
    "collapsed": false,
    "pycharm": {
     "name": "#%%\n"
    }
   }
  },
  {
   "cell_type": "code",
   "execution_count": 6,
   "outputs": [
    {
     "data": {
      "text/plain": "Text(6.7, 8, 'End')"
     },
     "execution_count": 6,
     "metadata": {},
     "output_type": "execute_result"
    },
    {
     "data": {
      "text/plain": "<Figure size 432x288 with 1 Axes>",
      "image/png": "[encoded data removed]"
     },
     "metadata": {
      "needs_background": "light"
     },
     "output_type": "display_data"
    }
   ],
   "source": [
    "run_q_table = 2                 # 1, 2\n",
    "if run_q_table == 1:\n",
    "    plan_size = 7\n",
    "    plan = np.ones((plan_size, plan_size))  # 1:free; 0: barrier\n",
    "    plan[0, 1] = 0\n",
    "    plan[1, [3, 4, 6]] = 0\n",
    "    plan[2, [0, 1, 2, 6]] = 0\n",
    "    plan[3, [4, 5]] = 0\n",
    "    plan[4, [1, 2, 3]] = 0\n",
    "    plan[5, 1] = 0\n",
    "    plan[6, 3] = 0\n",
    "    start_point = [0, 0]                       # Start point\n",
    "    end_point = np.array([3, 6])               # End point\n",
    "else:\n",
    "    plan_size = 9\n",
    "    plan = np.ones((plan_size, plan_size))  # 1:free; 0: barrier\n",
    "    plan[0:2,0:2] = 0\n",
    "    plan[1:9, 4] = 0\n",
    "    plan[1 ,[3, 4, 6, 7, 8]] = 0\n",
    "    plan[2, 1] = 0\n",
    "    plan[4 ,[0, 2, 3, 4, 5, 7, 8]] = 0\n",
    "    plan[8, [2,3,5, 8]] = 0\n",
    "    start_point = [8, 0]                       # Start point\n",
    "    end_point = np.array([8, 7])               # End point\n",
    "\n",
    "plt.imshow(plan, cmap='winter')            # 'winter', 'prism', 'spring'\n",
    "plt.text(start_point[1] - 0.4, start_point[0], 'Start', fontsize=10, color='r', fontweight='bold')\n",
    "plt.text(end_point[1] - 0.3, end_point[0], 'End', fontsize=10, color='r', fontweight='bold')"
   ],
   "metadata": {
    "collapsed": false,
    "pycharm": {
     "name": "#%%\n"
    }
   }
  },
  {
   "cell_type": "code",
   "execution_count": 7,
   "outputs": [],
   "source": [
    "all_states = np.array((np.where(plan.T==1)[1], np.where(plan.T==1)[0]))\n",
    "all_states = all_states.T\n",
    "all_actions = np.array([[1, 0],[-1, 0],[0, 1],[0, -1]])       # Down(1) Up(2) Right(3) Left(4)"
   ],
   "metadata": {
    "collapsed": false,
    "pycharm": {
     "name": "#%%\n"
    }
   }
  },
  {
   "cell_type": "markdown",
   "source": [
    "**First-visit MC prediction, for estimating** $V \\approx \\nu_\\pi$:\n",
    "*Input: a policy $\\pi$ to be evaluated*\n",
    "*Initialize:*\n",
    "   $V(s)\\epsilon R$, *arbitrarily, for all* $s\\epsilon S$\n",
    "   *Returns(s)* $\\leftarrow$ an empty list, for all $s\\epsilon S$\n",
    "*Loop (for each episode):*\n",
    "   Generate an episode following $\\pi: S_0, A_0, R_1, S_1, A_1, R_2,..., S_{T-1}, A_{T-1}, R_T$\n",
    "   G$\\leftarrow 0$\n",
    "   *Loop for each of episode, t=T-1, T-2, ... 0:*\n",
    "      $G\\leftarrow \\lambda G+R_{t+1}$\n",
    "      *Unless $S_t$ appears in $S_0, S_1, ..., S_{t-1}:$*\n",
    "         *Append G to Retuens($S_t$)*\n",
    "         $V(S_{t})\\leftarrow$ *average(Retuens*($S_t$))"
   ],
   "metadata": {
    "collapsed": false,
    "pycharm": {
     "name": "#%% md\n"
    }
   }
  },
  {
   "cell_type": "code",
   "execution_count": 11,
   "outputs": [
    {
     "name": "stderr",
     "output_type": "stream",
     "text": [
      "Number Epochs:: 100%|██████████| 600/600 [01:44<00:00,  5.72it/s]\n"
     ]
    }
   ],
   "source": [
    "# ======================================== Step 1:Initialization ========================================\n",
    "gamma = 0.999\n",
    "epsilon = 1\n",
    "Num_epochs = 600                         # Policy evaluation\n",
    "type = 'First-visit MC'\n",
    "\n",
    "V = np.zeros((np.size(all_states, 0)))\n",
    "counter = np.zeros((np.size(all_states, 0)))\n",
    "policy = np.random.randint(low=0, high=all_actions.shape[0], size=all_states.shape[0])\n",
    "# ====================================== Step 2:Policy Evaluation =======================================\n",
    "for i in tqdm(range(0, Num_epochs), desc='Number Epochs:'):\n",
    "    v = np.copy(V)\n",
    "    [states, rewards, actions] = plot(plan, all_states, all_actions, policy, start_point, Num_epochs, end_point, gamma, epsilon, type, dis=0, plot_gif=0, Q_prediction=0)\n",
    "\n",
    "    for j in range(0,np.size(all_states, 0)):\n",
    "        if (all_states[j, :]==end_point).all():\n",
    "            continue\n",
    "\n",
    "        ind = np.where(np.sum(np.equal(states, all_states[j, :]),axis=1)==2)[0]\n",
    "        if len(ind)==0:\n",
    "            continue\n",
    "\n",
    "        counter[j] = counter[j] +1\n",
    "        first_vist = ind[0]\n",
    "        Return = np.sum(rewards[first_vist+1:]*np.power(gamma, np.arange(0, len(rewards[first_vist+1:]))))\n",
    "        V[j] = V[j] + (1/counter[j])*(Return - V[j])\n",
    "\n",
    "    if np.linalg.norm(V-v) < 1e-4:\n",
    "        break\n",
    "# ===================================== Step 3:Policy Improvement =======================================\n",
    "policy = np.zeros((np.size(all_states, 0), 1), dtype=int)   # Policy improvement: selection of the best action; Down(1) Up(2) Right(3) Left(4)\n",
    "for j in range(0,np.size(all_states , 0)):\n",
    "    vector = np.zeros((np.size(all_actions , 0),1))\n",
    "    for k in range(0, np.size(all_actions , 0)):\n",
    "        [new_state, reward] = environment (all_states, all_states[j,:], all_actions[k,:], end_point)   # Environment\n",
    "        ind = np.argmax(np.sum(np.equal( all_states, new_state),axis=1))\n",
    "        vector[k] = reward + gamma*V[ind]\n",
    "    ind = np.where(vector==np.max(vector))[0]\n",
    "    policy[j] = ind[np.random.randint(low=0, high=len(ind), size=1)]"
   ],
   "metadata": {
    "collapsed": false,
    "pycharm": {
     "name": "#%%\n"
    }
   }
  },
  {
   "cell_type": "code",
   "execution_count": 13,
   "outputs": [
    {
     "data": {
      "text/plain": "<Figure size 324x324 with 1 Axes>",
      "image/png": "[encoded data removed]"
     },
     "metadata": {
      "needs_background": "light"
     },
     "output_type": "display_data"
    }
   ],
   "source": [
    "# ==================================== Step 4:Plot First-visit MC =======================================\n",
    "dis = 1                                  # dis = 1: Show plot\n",
    "epsilon = 0\n",
    "plot_gif = 0                             # plot_gif = 1 : Save plots\n",
    "type = 'First-visit MC'\n",
    "\n",
    "[states, rewards, actions] = plot(plan, all_states, all_actions, policy, start_point, Num_epochs, end_point, gamma, epsilon, type, dis,  plot_gif, Q_prediction=0)"
   ],
   "metadata": {
    "collapsed": false,
    "pycharm": {
     "name": "#%%\n"
    }
   }
  },
  {
   "cell_type": "markdown",
   "source": [
    "**Monte Carlo ES (Exploring Starts), for estimating** $\\pi \\approx \\pi_.$ :\n",
    "*Initialize:*\n",
    "   $\\pi(s)\\epsilon A(s)$, *arbitrarily, for all* $s\\epsilon S$\n",
    "   $Q(s,a)\\epsilon R$, *arbitrarily, for all* $s\\epsilon S, a\\epsilon A(s)$\n",
    "   *Returns(s,a)* $\\leftarrow$ an empty list, for all $s\\epsilon S, a\\epsilon A(s)$\n",
    "*Loop (for each episode):*\n",
    "   *Choose* $S_0\\epsilon S, A_0\\epsilon A(S_0)$ *randomly such that all pairs have probability > 0*\n",
    "   *Generate an episode from* $S_0, A_0,$ *following* $\\pi:S_0, A_0, R_1, S_1, A_1, R_2,..., S_{T-1}, A_{T-1}, R_T$\n",
    "   G$\\leftarrow 0$\n",
    "   *Loop for each of episode, t=T-1, T-2, ... 0:*\n",
    "      $G\\leftarrow \\lambda G+R_{t+1}$\n",
    "      *Unless the pairs $S_t, A_t$ appears in $S_0, S_1, A_1, ..., S_{t-1}, A_{t-1}:$*\n",
    "         *Append G to Retuens($S_t, A_t$)*\n",
    "         $Q(S_t, A_t)\\leftarrow$ *average(Retuens*($S_t, A_t$))\n",
    "   $\\pi(s) = argmax_a Q(s,a)$"
   ],
   "metadata": {
    "collapsed": false,
    "pycharm": {
     "name": "#%% md\n"
    }
   }
  },
  {
   "cell_type": "code",
   "execution_count": 27,
   "outputs": [
    {
     "name": "stderr",
     "output_type": "stream",
     "text": [
      "Number Epochs:: 100%|██████████| 700/700 [02:24<00:00,  4.84it/s]\n"
     ]
    }
   ],
   "source": [
    "# ======================================== Step 1:Initialization ========================================\n",
    "gamma = 0.9999\n",
    "epsilon = 1\n",
    "Num_epochs = 700                    # Policy evaluation\n",
    "Q_prediction = 1                    # 1: for Q Prediction   0: for Value Prediction\n",
    "type = 'Exploring Starts'\n",
    "num_action = all_actions.shape[0]\n",
    "state_actionPais = np.zeros((all_states.shape[0]*all_actions.shape[0], 4), dtype=int)\n",
    "policy = np.random.randint(low=0, high=all_actions.shape[0], size=all_states.shape[0])\n",
    "\n",
    "for i in range(0, all_states.shape[0]):\n",
    "    state_actionPais[num_action*i:num_action+4*i, :] = np.concatenate((np.tile(all_states[i,:],(4,1)),all_actions), axis=1)\n",
    "\n",
    "counter = np.zeros((state_actionPais.shape[0], 1))\n",
    "Q = np.zeros((state_actionPais.shape[0], 1))\n",
    "# ====================================== Step 2:Policy Evaluation =======================================\n",
    "for i in tqdm(range(0, Num_epochs), desc='Number Epochs:'):\n",
    "    start_state = state_actionPais[np.random.randint(low=0, high=len(state_actionPais)-4,size=1), :]\n",
    "    start_state = start_state.flatten()\n",
    "    [states, rewards, actions] = plot(plan, all_states, all_actions, policy, start_state, Num_epochs, end_point, gamma, epsilon, type, dis=0, plot_gif=0, Q_prediction=1)\n",
    "\n",
    "    state_action = np.concatenate((states, actions), axis=1)\n",
    "    for j in range(0, len(state_actionPais)):\n",
    "        if (state_actionPais[j, 0:2]==end_point).all():\n",
    "            continue\n",
    "\n",
    "        ind = np.where(np.sum(np.equal(state_action, state_actionPais[j, :]),axis=1)==4)[0]\n",
    "        if len(ind)==0:\n",
    "            continue\n",
    "\n",
    "        counter[j] = counter[j] + 1\n",
    "        first_vist = ind[0]\n",
    "        a=rewards[first_vist+1:]\n",
    "        Return = np.sum(rewards[first_vist+1:]*np.power(gamma, np.arange(0, len(rewards[first_vist+1:]))))\n",
    "        Q[j] = Q[j] + (1/counter[j])*(Return - Q[j])\n",
    "# ===================================== Step 3:Policy Improvement =======================================\n",
    "policy = np.zeros((np.size(all_states, 0), 1), dtype=int)   # Policy improvement: selection of the best action; Down(1) Up(2) Right(3) Left(4)\n",
    "for k in range(0,np.size(all_states, 0)):\n",
    "    Q_ = Q[num_action*k:num_action+4*k]\n",
    "    Ind = np.where(Q_==np.max(Q_))[0]\n",
    "    policy[k] = Ind[np.random.randint(low=0, high=len(Ind), size=1)]"
   ],
   "metadata": {
    "collapsed": false,
    "pycharm": {
     "name": "#%%\n"
    }
   }
  },
  {
   "cell_type": "code",
   "execution_count": 28,
   "outputs": [
    {
     "data": {
      "text/plain": "<Figure size 324x324 with 1 Axes>",
      "image/png": "[encoded data removed]"
     },
     "metadata": {
      "needs_background": "light"
     },
     "output_type": "display_data"
    }
   ],
   "source": [
    "# ==================================== Step 4:Plot Exploring starts ======================================\n",
    "dis = 1                                  # dis = 1: Show plot\n",
    "epsilon = 0\n",
    "plot_gif = 0                             # plot_gif = 1 : Save plots\n",
    "type = 'Exploring Starts'\n",
    "\n",
    "[states, rewards, actions] = plot(plan, all_states, all_actions, policy, start_point, Num_epochs, end_point, gamma, epsilon, type, dis,  plot_gif, Q_prediction=0)"
   ],
   "metadata": {
    "collapsed": false,
    "pycharm": {
     "name": "#%%\n"
    }
   }
  },
  {
   "cell_type": "markdown",
   "source": [
    "**On-policy ﬁrst-visit MC control (for** $\\epsilon-soft$ **policies), estimates** $\\pi \\approx \\pi_.$ :\n",
    "*Initialize:*\n",
    "   *small* $\\epsilon > 0$\n",
    "   $\\pi(s)\\leftarrow$ *arbitrarily* $\\epsilon-soft$ *policy*\n",
    "   $Q(s,a)\\epsilon R$ *arbitrarily, for all* $s\\epsilon S, a\\epsilon A(s)$\n",
    "   *Returns(s,a)* $\\leftarrow$ *empty list, for all* $s\\epsilon S, a\\epsilon A(s)$\n",
    "*Loop (for each episode):*\n",
    "   *Generate an episode following* $\\pi:S_0, A_0, R_1, S_1, A_1, R_2,..., S_{T-1}, A_{T-1}, R_T$\n",
    "   G$\\leftarrow 0$\n",
    "   *Loop for each of episode, t=T-1, T-2, ... 0:*\n",
    "      $G\\leftarrow \\lambda G+R_{t+1}$\n",
    "      *Unless the pairs $S_t, A_t$ appears in $S_0, S_1, A_1, ..., S_{t-1}, A_{t-1}:$*\n",
    "         *Append G to Retuens($S_t, A_t$)*\n",
    "         $Q(S_t, A_t)\\leftarrow$ *average(Retuens*($S_t, A_t$))\n",
    "         $A^.\\leftarrow argmax_a Q(S_t, a)$\n",
    "         *For all* $a \\epsilon A(S_t):$\n",
    "         $\\pi(a|S_t)\\leftarrow 1-\\epsilon+\\epsilon+\\epsilon/|A(S_t)|$ *if* $a=A^.$  *or* $\\epsilon/|A(S_t)|$ *if* $a\\neq A^.$"
   ],
   "metadata": {
    "collapsed": false,
    "pycharm": {
     "name": "#%% md\n"
    }
   }
  },
  {
   "cell_type": "code",
   "execution_count": 44,
   "outputs": [
    {
     "name": "stderr",
     "output_type": "stream",
     "text": [
      "Number Epochs:: 100%|██████████| 200/200 [00:10<00:00, 18.99it/s] \n"
     ]
    }
   ],
   "source": [
    "# ======================================== Step 1:Initialization ========================================\n",
    "gamma = 0.99\n",
    "epsilon = 0.98\n",
    "Num_epochs = 200                    # Policy evaluation\n",
    "num_action = all_actions.shape[0]\n",
    "state_actionPais = np.zeros((all_states.shape[0] * all_actions.shape[0], 4), dtype=int)\n",
    "policy = np.random.randint(low=0, high=all_actions.shape[0], size=all_states.shape[0])\n",
    "\n",
    "for i in range(0, all_states.shape[0]):\n",
    "    state_actionPais[num_action * i:num_action + 4 * i, :] = np.concatenate((np.tile(all_states[i, :], (4, 1)), all_actions), axis=1)\n",
    "\n",
    "counter = np.zeros((state_actionPais.shape[0], 1))\n",
    "Q = np.zeros((state_actionPais.shape[0], 1))\n",
    "# ====================================== Step 2:Policy Evaluation =======================================\n",
    "for i in tqdm(range(0, Num_epochs), desc='Number Epochs:'):\n",
    "    start_state = state_actionPais[np.random.randint(low=0, high=len(state_actionPais)-4,size=1), :]\n",
    "    start_state = start_state.flatten()\n",
    "    [states, rewards, actions] = plot(plan, all_states, all_actions, policy, start_state, Num_epochs, end_point, gamma, epsilon, type, dis=0, plot_gif=0, Q_prediction=1)\n",
    "\n",
    "    state_action = np.concatenate((states, actions), axis=1)\n",
    "    for j in range(0, len(state_actionPais)):\n",
    "        if (state_actionPais[j, 0:2]==end_point).all():\n",
    "            continue\n",
    "\n",
    "        ind = np.where(np.sum(np.equal(state_action, state_actionPais[j, :]),axis=1)==4)[0]\n",
    "        if len(ind)==0:\n",
    "            continue\n",
    "\n",
    "        counter[j] = counter[j] + 1\n",
    "        first_vist = ind[0]\n",
    "        Return = np.sum(rewards[first_vist+1:]*np.power(gamma, np.arange(0, len(rewards[first_vist+1:]))))\n",
    "        Q[j] = Q[j] + (1/counter[j])*(Return - Q[j])\n",
    "# ===================================== Step 3:Policy Improvement =======================================\n",
    "    policy = np.zeros((np.size(all_states, 0), 1), dtype=int)   # selection of the best action; Down(1) Up(2) Right(3) Left(4)\n",
    "    for k in range(0,np.size(all_states, 0)):\n",
    "        Q_ = Q[num_action*k:num_action+4*k]\n",
    "        Ind = np.where(Q_==np.max(Q_))[0]\n",
    "        policy[k] = Ind[np.random.randint(low=0, high=len(Ind), size=1)]\n",
    "\n",
    "    epsilon = epsilon *0.97"
   ],
   "metadata": {
    "collapsed": false,
    "pycharm": {
     "name": "#%%\n"
    }
   }
  },
  {
   "cell_type": "code",
   "execution_count": 45,
   "outputs": [
    {
     "data": {
      "text/plain": "<Figure size 324x324 with 1 Axes>",
      "image/png": "[encoded data removed]"
     },
     "metadata": {
      "needs_background": "light"
     },
     "output_type": "display_data"
    }
   ],
   "source": [
    "# ======================================== Step 4:Plot On-policy =========================================\n",
    "dis = 1                                  # dis = 1: Show plot\n",
    "epsilon = 0\n",
    "plot_gif = 0                             # plot_gif = 1 : Save plots\n",
    "type = 'On-policy'\n",
    "[states, rewards, actions] = plot(plan, all_states, all_actions, policy, start_point, Num_epochs, end_point, gamma, epsilon, type, dis,  plot_gif, Q_prediction=0)"
   ],
   "metadata": {
    "collapsed": false,
    "pycharm": {
     "name": "#%%\n"
    }
   }
  }
 ],
 "metadata": {
  "kernelspec": {
   "display_name": "Python 3",
   "language": "python",
   "name": "python3"
  },
  "language_info": {
   "codemirror_mode": {
    "name": "ipython",
    "version": 2
   },
   "file_extension": ".py",
   "mimetype": "text/x-python",
   "name": "python",
   "nbconvert_exporter": "python",
   "pygments_lexer": "ipython2",
   "version": "2.7.6"
  }
 },
 "nbformat": 4,
 "nbformat_minor": 0
}