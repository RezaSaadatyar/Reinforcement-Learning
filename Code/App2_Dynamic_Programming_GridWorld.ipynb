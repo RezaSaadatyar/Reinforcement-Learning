{
 "cells": [
  {
   "cell_type": "markdown",
   "source": [
    "*Reinforcement learning (2023-2024)*\n",
    " - Dynamic Programming\n",
    "\n",
    "*Presented by: Reza Saadatyar*\n",
    "*E-mail: Reza.Saadatyar92@gmail.com*"
   ],
   "metadata": {
    "collapsed": false,
    "pycharm": {
     "name": "#%% md\n"
    }
   }
  },
  {
   "cell_type": "code",
   "execution_count": 147,
   "outputs": [],
   "source": [
    "import time\n",
    "import imageio\n",
    "import numpy as np\n",
    "import matplotlib.pyplot as plt\n",
    "from IPython.display import display, clear_output"
   ],
   "metadata": {
    "collapsed": false,
    "pycharm": {
     "name": "#%%\n"
    }
   }
  },
  {
   "cell_type": "code",
   "execution_count": 229,
   "outputs": [],
   "source": [
    "# ================================================ Environment ========================================\n",
    "def environment (all_states, all_states_j, all_actions_k, terminal_state):\n",
    "    state1, state2 = all_states_j\n",
    "    action1, action2 = all_actions_k                            # Plane velocity in vertical and horizontal directions\n",
    "    new_state = [state1 + action1, state2 + action2]\n",
    "    if np.sum(np.all(np.equal(new_state, all_states), axis=1)): # Check new state in all states\n",
    "        if (new_state == terminal_state).all():\n",
    "            reward = 10\n",
    "        else:\n",
    "            reward = -1\n",
    "    else:\n",
    "        new_state = all_states_j\n",
    "        reward = -10\n",
    "    return new_state, reward\n",
    "\n",
    "# ================================================== Plot ==============================================\n",
    "def plot(plan, policy, gamma, type):\n",
    "    !mkdir images\n",
    "    FinalTimeStep = plan.shape[0]*plan.shape[1]\n",
    "    states = np.zeros((FinalTimeStep , 2), dtype=int)\n",
    "    actions = np.zeros((FinalTimeStep , 2))\n",
    "    rewards = np.zeros((FinalTimeStep , 1))\n",
    "    i = 0\n",
    "    states[i , :] = start_State\n",
    "    fig, ax = plt.subplots(figsize=(4,4))\n",
    "    filenames = []\n",
    "\n",
    "    while 1:\n",
    "        if i > FinalTimeStep -2:\n",
    "            break\n",
    "        plan2 = np.copy(plan)\n",
    "        plan2[states[i, 0], states[i, 1]] = 3  # 3: Change the color start state\n",
    "        plan2[terminal_state[0], terminal_state[1]] = 2  # 2: Change the color terminal state\n",
    "        ax.cla()\n",
    "        ax.imshow(plan2, cmap='winter')\n",
    "        plt.title([f\"gamma: {gamma}; Time Step {i}; {type}\"],fontsize=8)\n",
    "        plt.text(start_State[1] - 0.4, start_State[0], 'Start', fontsize=10, color='r', fontweight='bold')\n",
    "        plt.text(terminal_state[1] - 0.3, terminal_state[0], 'End', fontsize=10, color='r', fontweight='bold')\n",
    "        display(fig)\n",
    "        clear_output(wait=True)\n",
    "        if i == 0:\n",
    "            time.sleep(1)\n",
    "        else:\n",
    "            time.sleep(0.3)\n",
    "\n",
    "        filename = f'{i}.png'\n",
    "        filenames.append(filename)\n",
    "        plt.savefig(filename, facecolor='white')\n",
    "\n",
    "        actions[i, :] = all_actions[policy[np.argmax(np.sum(np.equal(all_states, states[i, :]), axis=1))], :]\n",
    "\n",
    "        [states[i + 1], rewards[i + 1, :]] = environment(all_states, states[i, :], actions[i, :], terminal_state)  # Environment\n",
    "\n",
    "        if (states[i + 1, :] == terminal_state).all():\n",
    "            plan2 = np.copy(plan)\n",
    "            plan2[states[i + 1, 0], states[i + 1, 1]] = 3\n",
    "            plan2[terminal_state[0], terminal_state[1]] = 2\n",
    "            plt.imshow(plan2, cmap='winter')\n",
    "            plt.title([f\"gamma: {gamma}; Time Step {i}; {type}\"], fontsize=8)\n",
    "            filename = f'{i+1}.png'\n",
    "            filenames.append(filename)\n",
    "            plt.savefig(filename, facecolor='white')\n",
    "            break\n",
    "        i = i + 1\n",
    "\n",
    "    states = np.delete(states, slice(i + 2, states.shape[0]), 0)\n",
    "    rewards = np.delete(rewards, slice(i + 2, rewards.shape[0]), 0)\n",
    "    actions = np.delete(actions, slice(i + 2, actions.shape[0]), 0)\n",
    "\n",
    "    with imageio.get_writer(f\"{type}; gamma is {gamma}.gif\", mode='I') as writer:    # build gif\n",
    "        for filename in filenames:\n",
    "            image = imageio.v2.imread(filename)\n",
    "            writer.append_data(image)\n",
    "    return states, rewards, actions"
   ],
   "metadata": {
    "collapsed": false,
    "pycharm": {
     "name": "#%%\n"
    }
   }
  },
  {
   "cell_type": "code",
   "execution_count": 185,
   "outputs": [
    {
     "data": {
      "text/plain": "<matplotlib.image.AxesImage at 0x1f7b7e66230>"
     },
     "execution_count": 185,
     "metadata": {},
     "output_type": "execute_result"
    },
    {
     "data": {
      "text/plain": "<Figure size 432x288 with 1 Axes>",
      "image/png": "[encoded data removed]"
     },
     "metadata": {
      "needs_background": "light"
     },
     "output_type": "display_data"
    }
   ],
   "source": [
    "Num_epochs = 200                         # Policy evaluation\n",
    "gamma = 0.2\n",
    "plan_size = 7\n",
    "plan =np.ones((plan_size, plan_size))    # 1:free; 0: barrier\n",
    "plan[0, 1] = 0\n",
    "plan[1, [3, 4, 6]] = 0\n",
    "plan[2, [0, 1, 2, 6]] = 0\n",
    "plan[3, [4, 5]] = 0\n",
    "plan[4, [1,2,3]] = 0\n",
    "plan[5, 1] = 0\n",
    "plan[6, 3] = 0\n",
    "start_State = [0, 0]\n",
    "terminal_state = np.array([3, 6])          # Terminal state   np.max(all_states, axis=0)\n",
    "plt.imshow(plan, cmap='winter')            # 'winter', 'prism', 'spring'"
   ],
   "metadata": {
    "collapsed": false,
    "pycharm": {
     "name": "#%%\n"
    }
   }
  },
  {
   "cell_type": "code",
   "execution_count": 186,
   "outputs": [],
   "source": [
    "all_states = np.array((np.where(plan.T==1)[1], np.where(plan.T==1)[0]))\n",
    "all_states = all_states.T\n",
    "all_actions = np.array([[1, 0],[-1, 0],[0, 1],[0, -1]])       # Down(1) Up(2) Right(3) Left(4)"
   ],
   "metadata": {
    "collapsed": false,
    "pycharm": {
     "name": "#%%\n"
    }
   }
  },
  {
   "cell_type": "markdown",
   "source": [
    "***Iterative policy evaluation (Stochastic policy evaluation)***\n",
    "*Input $\\pi$, the policy to be evaluated*\n",
    "*Algorithm parameter: a small threshold $\\theta > 0$ determining accuracy of estimation*\n",
    "*Initialize V(s), for all $s\\epsilon S^+$, arbitrarily expect that $V(terminal) = 0$*\n",
    "*Loop:*\n",
    "  $\\Delta \\leftarrow 0$\n",
    "  *Loop for each $s\\epsilon S$*\n",
    "  $\\nu \\leftarrow V(s)$\n",
    "  $V(s) \\leftarrow \\sum_{a}\\pi(a|s).\\sum_{s^.,r}p(s^.,r|s,a)[r+\\lambda V_{\\pi}(s^.)]$;     *Bellman equation for the State-value function*\n",
    "  $\\Delta \\leftarrow max(\\Delta,|\\nu-V(s)|)$\n",
    "  *until* $\\Delta < \\theta$"
   ],
   "metadata": {
    "collapsed": false,
    "pycharm": {
     "name": "#%% md\n"
    }
   }
  },
  {
   "cell_type": "code",
   "execution_count": 231,
   "outputs": [
    {
     "data": {
      "text/plain": "<Figure size 288x288 with 1 Axes>",
      "image/png": "[encoded data removed]"
     },
     "metadata": {
      "needs_background": "light"
     },
     "output_type": "display_data"
    }
   ],
   "source": [
    "# ======================================== Step 1:Initialization =======================================\n",
    "gamma = 0.99\n",
    "V = np.zeros((np.size(all_states, 0)))\n",
    "policy = (1 / all_actions.shape[0]) * np.ones((all_actions.shape[0], 1))\n",
    "# ====================================== Step 2:Policy Evaluation =======================================\n",
    "for i in range(0, Num_epochs):\n",
    "    v = np.copy(V)\n",
    "\n",
    "    for j in range(0,np.size(all_states, 0)):\n",
    "        if (all_states[j, :]==terminal_state).all():\n",
    "            continue\n",
    "        Sum = 0\n",
    "        for k in range(0, np.size(all_actions, 0)):\n",
    "            [new_state, reward] = environment(all_states, all_states[j,:], all_actions[k,:], terminal_state)   # Environment\n",
    "            ind = np.argmax(np.sum(np.equal(all_states, new_state),axis=1))\n",
    "            Sum = Sum +  policy[k]*(reward + gamma*V[ind])\n",
    "        V[j] = Sum\n",
    "    if np.linalg.norm(V-v) < 1e-4:\n",
    "        break\n",
    "# print(f\"Number epochs:{i}\")\n",
    "# ===================================== Step 3:Policy Improvement =======================================\n",
    "policy = np.zeros((np.size(all_states, 0), 1), dtype=int)   # Policy improvement: selection of the best action; Down(1) Up(2) Right(3) Left(4)\n",
    "for j in range(0,np.size(all_states , 0)):\n",
    "    vector = np.zeros((np.size(all_actions , 0),1))\n",
    "    for k in range(0, np.size(all_actions , 0)):\n",
    "        [new_state, reward] = environment (all_states, all_states[j,:], all_actions[k,:], terminal_state)   # Environment\n",
    "        ind = np.argmax(np.sum(np.equal( all_states, new_state),axis=1))\n",
    "        vector[k] = reward + gamma*V[ind]\n",
    "    ind = np.where(vector==np.max(vector))[0]\n",
    "    policy[j] = ind[np.random.randint(low=0, high=len(ind), size=1)]\n",
    "states, rewards, actions = plot(plan, policy, gamma, type='Stochastic policy evaluation')"
   ],
   "metadata": {
    "collapsed": false,
    "pycharm": {
     "name": "#%%\n"
    }
   }
  },
  {
   "cell_type": "markdown",
   "source": [
    "***Deterministic policy evaluation***\n",
    "$\\pi_0$  $\\underrightarrow{E}$  $\\nu_{\\pi_0}$  $\\underrightarrow{I}$  $\\pi_1$ $\\underrightarrow{E} ... \\underrightarrow{I}$ $\\pi_*$  $\\underrightarrow{E}$  $\\nu_*$\n",
    "**1. Initialization:**\n",
    "$V(s)\\epsilon R$ *and* $\\pi(s) \\epsilon A(s)$ *arbitrarily for all $ s \\epsilon S$*\n",
    "**2. Policy Evaluation:**\n",
    "*Loop:*\n",
    "  $\\Delta \\leftarrow 0$\n",
    "  *Loop for each $s\\epsilon S$*\n",
    "  $\\nu \\leftarrow V(s)$\n",
    "  $V(s) \\leftarrow \\sum_{s^.,r}p(s^.,r|s,\\pi(s))[r+\\lambda V_{\\pi}(s^.)]$\n",
    "  $\\Delta \\leftarrow max(\\Delta,|\\nu-V(s)|)$\n",
    "  *until* $\\Delta < \\theta$ *(a small positive number determining the accuracy of estimation)*\n",
    "**3. Policy Improvement:**\n",
    "*policy_stable* $\\leftarrow$ *true(1)*\n",
    "*For each* $s \\epsilon S$:\n",
    "  old_action $\\leftarrow \\pi(s)$\n",
    "  $\\pi(s) \\leftarrow argmax_a \\sum_{s^.,r}p(s^.,r|s,a)[r+\\lambda V_{\\pi}(s^.)]$\n",
    "  *If old_action* $\\neq \\pi(s)$, *then policy_stable* $\\leftarrow false(0)$\n",
    "*If policy_stable, then stop and return* $V \\approx \\nu_*$  *and*  $\\pi \\approx \\pi_*$; *else go to 2*"
   ],
   "metadata": {
    "collapsed": false,
    "pycharm": {
     "name": "#%% md\n"
    }
   }
  },
  {
   "cell_type": "code",
   "execution_count": 233,
   "outputs": [
    {
     "data": {
      "text/plain": "<Figure size 288x288 with 1 Axes>",
      "image/png": "[encoded data removed]"
     },
     "metadata": {
      "needs_background": "light"
     },
     "output_type": "display_data"
    }
   ],
   "source": [
    "# ======================================== Step 1:Initialization =======================================\n",
    "gamma = 0.25\n",
    "V = np.zeros((np.size(all_states,0)))\n",
    "policy = np.random.randint(low=0, high=all_actions.shape[0], size=all_states.shape[0])\n",
    "P = 100              # Policy iteration\n",
    "\n",
    "for p in range(0, P):\n",
    "# ====================================== Step 2:Policy Evaluation =======================================\n",
    "    for i in range(0, Num_epochs):\n",
    "        v = np.copy(V)\n",
    "        for j in range(0, np.size(all_states, 0)):\n",
    "            if (all_states[j, :] == terminal_state).all():\n",
    "                continue\n",
    "\n",
    "            [new_state, reward] = environment(all_states, all_states[j, :], all_actions[policy[j].item(), :], terminal_state)  # Environment\n",
    "            ind = np.argmax(np.sum(np.equal(all_states, new_state), axis=1))\n",
    "            V[j] = reward + gamma*V[ind]\n",
    "\n",
    "        if np.linalg.norm(V - v) < 1e-4:\n",
    "            break\n",
    "# ===================================== Step 3:Policy Improvement =======================================\n",
    "    policy = np.zeros((all_states.shape[0], 1), dtype=int)\n",
    "    for r in range(0, np.size(all_states, 0)):\n",
    "        vector = np.zeros((np.size(all_actions, 0), 1))\n",
    "        for k in range(0, np.size(all_actions, 0)):\n",
    "            [new_state2, reward2] = environment(all_states, all_states[r, :], all_actions[k, :], terminal_state)  # Environment\n",
    "            ind = np.argmax(np.sum(np.equal(all_states, new_state2), axis=1))\n",
    "            vector[k] = reward2 + gamma * V[ind]\n",
    "        ind2 = np.where(vector == np.max(vector))[0]\n",
    "        policy[r] = ind2[np.random.randint(low=0, high=len(ind2), size=1)]\n",
    "print(f\"Number epochs:{p}\")\n",
    "states, rewards, actions = plot(plan, policy, gamma, type='Deterministic policy evaluation')"
   ],
   "metadata": {
    "collapsed": false,
    "pycharm": {
     "name": "#%%\n"
    }
   }
  },
  {
   "cell_type": "markdown",
   "source": [
    "***Value Iteration***\n",
    "*Algorithm parameter: a small threshold $\\theta > 0$ determining accuracy of estimation*\n",
    "*Initialize V(s), for all $s\\epsilon S^+$, arbitrarily expect that $V(terminal) = 0$*\n",
    "*Loop:*\n",
    "  $\\Delta \\leftarrow 0$\n",
    "  *Loop for each $s\\epsilon S$*\n",
    "  $\\nu \\leftarrow V(s)$\n",
    "  $V(s) \\leftarrow max_a \\sum_{s^.,r}p(s^.,r|s,a)[r+\\lambda V(s^.)]$\n",
    "  $\\Delta \\leftarrow max(\\Delta,|\\nu-V(s)|)$\n",
    "  *until* $\\Delta < \\theta$\n",
    "  *Output a deterministic policy,* $\\pi \\approx \\pi_*$, *such that*\n",
    "  $\\pi(s) = argmax_a \\sum_{s^.,r}p(s^.,r|s,a)[r+\\lambda V(s^.)]$"
   ],
   "metadata": {
    "collapsed": false,
    "pycharm": {
     "name": "#%% md\n"
    }
   }
  },
  {
   "cell_type": "code",
   "execution_count": 238,
   "outputs": [
    {
     "data": {
      "text/plain": "<Figure size 288x288 with 1 Axes>",
      "image/png": "[encoded data removed]"
     },
     "metadata": {
      "needs_background": "light"
     },
     "output_type": "display_data"
    }
   ],
   "source": [
    "# ======================================== Step 1:Initialization =======================================\n",
    "gamma = 0.6\n",
    "V = np.zeros((np.size(all_states,0)))\n",
    "for i in range(0, Num_epochs):\n",
    "    v = np.copy(V)\n",
    "# ====================================== Step 2:Policy Evaluation =======================================\n",
    "    for j in range(0, np.size(all_states, 0)-1):\n",
    "        vector = np.zeros((np.size(all_actions, 0), 1))\n",
    "\n",
    "        for k in range(0, np.size(all_actions, 0)):\n",
    "            [new_state, reward] = environment(all_states, all_states[j, :], all_actions[k, :], terminal_state)  # Environment\n",
    "            ind = np.argmax(np.sum(np.equal(all_states, new_state), axis=1))\n",
    "            vector[k] = reward + gamma * V[ind]\n",
    "        V[j] = np.max(vector)\n",
    "    if np.linalg.norm(V - v) < 1e-4:\n",
    "        break\n",
    "# print(f\"Number epochs:{i}\")\n",
    "# ===================================== Step 3:Policy Improvement =======================================\n",
    "policy = np.zeros((np.size(all_states, 0), 1), dtype=int)  # Policy improvement: selection of the best action; Down(1) Up(2) Right(3) Left(4)\n",
    "for j in range(0, np.size(all_states, 0)):\n",
    "    vector = np.zeros((np.size(all_actions, 0), 1))\n",
    "    for k in range(0, np.size(all_actions, 0)):\n",
    "        [new_state, reward] = environment(all_states, all_states[j, :], all_actions[k, :], terminal_state)  # Environment\n",
    "        ind = np.argmax(np.sum(np.equal(all_states, new_state), axis=1))\n",
    "        vector[k] = reward + gamma * V[ind]\n",
    "    ind = np.where(vector == np.max(vector))[0]\n",
    "    policy[j] = ind[np.random.randint(low=0, high=len(ind), size=1)]\n",
    "states, rewards, actions = plot(plan, policy, gamma, type='Value Iteration')"
   ],
   "metadata": {
    "collapsed": false,
    "pycharm": {
     "name": "#%%\n"
    }
   }
  },
  {
   "cell_type": "markdown",
   "source": [
    "***Factored Markov Decision Processes (FMDPs):***\n",
    "$p(s^.,r|s,a)=Pr[S_t=s^., R_t=r|S_{t-1}=s, A_{t-1}=a]=\\sum_{r\\epsilon R}p(s^.,r|s,a) \\rightarrow [0,1]$\n",
    "$r(s,a)=E[R_t|S_{t-1}=s, A_{t-1}=a]=\\sum_{r\\epsilon R}r \\sum_{s^.\\epsilon S}p(s^.,r|s,a)$\n",
    "$r(s,a,s^.)=E[R_t|S_{t-1}=s, A_{t-1}=a,S_t=s^.]=\\sum_{r\\epsilon R}r$ ${p(s^.,r|s,a)} \\over{p(s^.|s,a)}$\n",
    "***Return G equation***\n",
    "$G_t = r_{t+1}+\\lambda r_{t+2}+\\lambda^2r_{t+3}+... = \\sum_{j=0}^T \\lambda^jr_{t+j+1}=r_{t+1}+\\lambda(G_{t+1})$;  *t=time step*\n",
    "***V-function: the value of the state***\n",
    "$V_{\\pi}(s) = E_{\\pi}[G_t|s=s_t] = E_{\\pi}[\\sum_{j=0}^T \\lambda^jr_{t+j+1}|s=s_t]$\n",
    "***Q-function: The value of the action***\n",
    "$Q_{\\pi}(s, a) = E_{\\pi}[G_t|S_t=s, A_t=a] = E_{\\pi}[\\sum_{j=0}^T \\lambda^jr_{t+j+1}|St=s, A_t=a]$\n",
    "***Bellman equation for the State-value function***\n",
    "$V_{\\pi}(s) = \\sum_{a}\\pi(a|s).\\sum_{s^.}P_{ss^.}^a(r(s,a)+\\lambda V_{\\pi}(s.))= \\sum_{a}\\pi(a|s).\\sum_{s^.,r}p(s^.,r|s,a)[r+\\lambda V_{\\pi}(s^.)]$\n",
    "***Bellman equation for the Action-value function***\n",
    "$Q_{\\pi}(s, a) = \\sum_{s^.}P_{ss^.}^a(r(s,a)+\\lambda.\\sum_{a.}\\pi(a^.|s^.).Q_{\\pi}(s^., a^.)) = \\sum_{s^.}P_{ss^.}^a(r(s,a)+\\lambda  V_{\\pi}(s^.))$\n",
    "***Bellman equation of optimality***\n",
    "$V_*(s) = max_a\\sum_{s^.}P_{ss^.}^a(r(s,a)+\\lambda V_*(s^.))$\n",
    "$Q_*(s, a) = \\sum_{s^.}P_{ss^.}^a(r(s,a)+\\lambda max_{a^.}Q_*(s^.,a^.))$"
   ],
   "metadata": {
    "collapsed": false,
    "pycharm": {
     "name": "#%% md\n"
    }
   }
  },
  {
   "cell_type": "code",
   "execution_count": null,
   "outputs": [],
   "source": [],
   "metadata": {
    "collapsed": false,
    "pycharm": {
     "name": "#%%\n"
    }
   }
  }
 ],
 "metadata": {
  "kernelspec": {
   "display_name": "Python 3",
   "language": "python",
   "name": "python3"
  },
  "language_info": {
   "codemirror_mode": {
    "name": "ipython",
    "version": 2
   },
   "file_extension": ".py",
   "mimetype": "text/x-python",
   "name": "python",
   "nbconvert_exporter": "python",
   "pygments_lexer": "ipython2",
   "version": "2.7.6"
  }
 },
 "nbformat": 4,
 "nbformat_minor": 0
}