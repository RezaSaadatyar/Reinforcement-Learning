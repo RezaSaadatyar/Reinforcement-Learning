{
 "cells": [
  {
   "cell_type": "markdown",
   "source": [
    "*Reinforcement learning (2023-2024)*\n",
    " - Dynamic Programming\n",
    "   - Iterative policy evaluation (Stochastic policy evaluation)\n",
    "   - Deterministic policy evaluation\n",
    "   - Value Iteration\n",
    "\n",
    "*Presented by: Reza Saadatyar*\n",
    "*E-mail: Reza.Saadatyar92@gmail.com*"
   ],
   "metadata": {
    "collapsed": false,
    "pycharm": {
     "name": "#%% md\n"
    }
   }
  },
  {
   "cell_type": "code",
   "execution_count": 21,
   "outputs": [],
   "source": [
    "import time\n",
    "import imageio\n",
    "import numpy as np\n",
    "from tqdm import tqdm\n",
    "import matplotlib.pyplot as plt\n",
    "from IPython.display import display, clear_output"
   ],
   "metadata": {
    "collapsed": false,
    "pycharm": {
     "name": "#%%\n"
    }
   }
  },
  {
   "cell_type": "code",
   "execution_count": 22,
   "outputs": [
    {
     "data": {
      "text/plain": "Text(6.7, 8, 'End')"
     },
     "execution_count": 22,
     "metadata": {},
     "output_type": "execute_result"
    },
    {
     "data": {
      "text/plain": "<Figure size 432x288 with 1 Axes>",
      "image/png": "[encoded data removed]"
     },
     "metadata": {
      "needs_background": "light"
     },
     "output_type": "display_data"
    }
   ],
   "source": [
    "run_q_table = 2                 # 1, 2\n",
    "if run_q_table == 1:\n",
    "    plan_size = 7\n",
    "    plan = np.ones((plan_size, plan_size))  # 1:free; 0: barrier\n",
    "    plan[0, 1] = 0\n",
    "    plan[1, [3, 4, 6]] = 0\n",
    "    plan[2, [0, 1, 2, 6]] = 0\n",
    "    plan[3, [4, 5]] = 0\n",
    "    plan[4, [1, 2, 3]] = 0\n",
    "    plan[5, 1] = 0\n",
    "    plan[6, 3] = 0\n",
    "    start_point = [0, 0]                       # Start point\n",
    "    end_point = np.array([3, 6])               # End point\n",
    "else:\n",
    "    plan_size = 9\n",
    "    plan = np.ones((plan_size, plan_size))  # 1:free; 0: barrier\n",
    "    plan[0:2,0:2] = 0\n",
    "    plan[1:9, 4] = 0\n",
    "    plan[1 ,[3, 4, 6, 7, 8]] = 0\n",
    "    plan[2, 1] = 0\n",
    "    plan[4 ,[0, 2, 3, 4, 5, 7, 8]] = 0\n",
    "    plan[8, [2,3,5, 8]] = 0\n",
    "    start_point = [8, 0]                       # Start point\n",
    "    end_point = np.array([8, 7])               # End point\n",
    "\n",
    "plt.imshow(plan, cmap='winter')            # 'winter', 'prism', 'spring'\n",
    "plt.text(start_point[1] - 0.4, start_point[0], 'Start', fontsize=10, color='r', fontweight='bold')\n",
    "plt.text(end_point[1] - 0.3, end_point[0], 'End', fontsize=10, color='r', fontweight='bold')"
   ],
   "metadata": {
    "collapsed": false,
    "pycharm": {
     "name": "#%%\n"
    }
   }
  },
  {
   "cell_type": "code",
   "execution_count": 23,
   "outputs": [],
   "source": [
    "# ================================================ Environment ========================================\n",
    "def environment (all_states, all_states_j, all_actions_k, terminal_state):\n",
    "    state1, state2 = all_states_j\n",
    "    action1, action2 = all_actions_k                            # Plane velocity in vertical and horizontal directions\n",
    "    new_state = [state1 + action1, state2 + action2]\n",
    "    if np.sum(np.all(np.equal(new_state, all_states), axis=1)): # Check new state in all states\n",
    "        if (new_state == terminal_state).all():\n",
    "            reward = 10\n",
    "        else:\n",
    "            reward = -1\n",
    "    else:\n",
    "        new_state = all_states_j\n",
    "        reward = -10\n",
    "    return new_state, reward\n",
    "\n",
    "# ================================================== Plot ==============================================\n",
    "def plot(plan, all_states, all_actions, policy, start_point, Num_epochs, end_point, gamma, type, dis, plot_gif):\n",
    "\n",
    "    FinalTimeStep =10000000\n",
    "    if plot_gif:\n",
    "        FinalTimeStep = plan.shape[0]*plan.shape[1]\n",
    "\n",
    "    states = np.zeros((FinalTimeStep , 2), dtype=int)\n",
    "    actions = np.zeros((FinalTimeStep , 2),  dtype=int)\n",
    "    rewards = np.zeros((FinalTimeStep , 1))\n",
    "    states[0,:]=start_point[0:2]\n",
    "    Count = 0\n",
    "\n",
    "    if dis:\n",
    "        fig, ax = plt.subplots(figsize=(4.5,4.5))\n",
    "        !mkdir Images\n",
    "    filenames = []\n",
    "\n",
    "    while 1:\n",
    "        if Count > FinalTimeStep -2:\n",
    "            break\n",
    "        if dis:\n",
    "            plan2 = np.copy(plan)\n",
    "            plan2[states[Count, 0], states[Count, 1]] = 3  # 3: Change the color start state\n",
    "            plan2[end_point[0], end_point[1]] = 2  # 2: Change the color terminal state\n",
    "            ax.cla()\n",
    "            ax.imshow(plan2, cmap='winter')\n",
    "            plt.title([f\"gamma:{gamma}; Time Step:{Count}; Num_epochs:{Num_epochs}; {type}\"],fontsize=8)\n",
    "            plt.text(start_point[1] - 0.4, start_point[0], 'Start', fontsize=10, color='r', fontweight='bold')\n",
    "            plt.text(end_point[1] - 0.3, end_point[0], 'End', fontsize=10, color='r', fontweight='bold')\n",
    "            display(fig)\n",
    "            clear_output(wait=True)\n",
    "            if Count == 0:\n",
    "               time.sleep(1)\n",
    "            else:\n",
    "               time.sleep(0.3)\n",
    "\n",
    "            if plot_gif:\n",
    "                filename = f'Images/{Count}.png'\n",
    "                filenames.append(filename)\n",
    "                plt.savefig(filename, facecolor='white', )\n",
    "\n",
    "        Ind = policy[np.argmax(np.sum(np.equal(all_states, states[Count, :]), axis=1))]\n",
    "        actions[Count, :] = all_actions[Ind, :]\n",
    "\n",
    "        [states[Count + 1, :], rewards[Count + 1, :]] = environment(all_states, states[Count, :], actions[Count, :], end_point)  # Environment\n",
    "\n",
    "        if (states[Count + 1, :] == end_point).all():\n",
    "            if dis:\n",
    "                plan2 = np.copy(plan)\n",
    "                plan2[states[Count + 1, 0], states[Count + 1, 1]] = 3\n",
    "                plan2[end_point[0], end_point[1]] = 2\n",
    "                plt.imshow(plan2, cmap='winter')\n",
    "                plt.title([f\"gamma:{gamma}; Time Step:{Count}; Num_epochs:{Num_epochs}; {type}\"], fontsize=8)\n",
    "                if plot_gif:\n",
    "                    filename = f'Images/{Count+1}.png'\n",
    "                    filenames.append(filename)\n",
    "                    plt.savefig(filename, facecolor='white')\n",
    "            break\n",
    "        Count = Count + 1\n",
    "\n",
    "    states = np.delete(states, slice(Count + 2, states.shape[0]), 0)\n",
    "    rewards = (np.delete(rewards, slice(Count + 2, rewards.shape[0]), 0)).flatten()\n",
    "    actions = np.delete(actions, slice(Count + 2, actions.shape[0]), 0)\n",
    "\n",
    "    if plot_gif:\n",
    "        with imageio.get_writer(f\"Images/{type}; gamma({gamma}).gif\", mode='I') as writer:    # Save gif format\n",
    "         for filename in filenames:\n",
    "             image = imageio.v2.imread(filename)\n",
    "             writer.append_data(image)\n",
    "\n",
    "    return states, rewards, actions"
   ],
   "metadata": {
    "collapsed": false,
    "pycharm": {
     "name": "#%%\n"
    }
   }
  },
  {
   "cell_type": "code",
   "execution_count": 24,
   "outputs": [],
   "source": [
    "all_states = np.array((np.where(plan.T==1)[1], np.where(plan.T==1)[0]))\n",
    "all_states = all_states.T\n",
    "all_actions = np.array([[1, 0],[-1, 0],[0, 1],[0, -1]])       # Down(1) Up(2) Right(3) Left(4)"
   ],
   "metadata": {
    "collapsed": false,
    "pycharm": {
     "name": "#%%\n"
    }
   }
  },
  {
   "cell_type": "markdown",
   "source": [
    "**Iterative Policy Evaluation, for estimating** $V \\approx \\nu_\\pi$:\n",
    "*Input $\\pi$, the policy to be evaluated*\n",
    "*Algorithm parameter: a small threshold $\\theta > 0$ determining accuracy of estimation*\n",
    "*Initialize V(s), for all $s\\epsilon S^+$, arbitrarily expect that $V(terminal) = 0$*\n",
    "*Loop:*\n",
    "  $\\Delta \\leftarrow 0$\n",
    "  *Loop for each $s\\epsilon S$*\n",
    "  $\\nu \\leftarrow V(s)$\n",
    "  $V(s) \\leftarrow \\sum_{a}\\pi(a|s).\\sum_{s^.,r}p(s^.,r|s,a)[r+\\lambda V_{\\pi}(s^.)]$;     *Bellman equation for the State-value function*\n",
    "  $\\Delta \\leftarrow max(\\Delta,|\\nu-V(s)|)$\n",
    "  *until* $\\Delta < \\theta$"
   ],
   "metadata": {
    "collapsed": false,
    "pycharm": {
     "name": "#%% md\n"
    }
   }
  },
  {
   "cell_type": "code",
   "execution_count": 19,
   "outputs": [
    {
     "name": "stderr",
     "output_type": "stream",
     "text": [
      "Number Epochs:: 100%|██████████| 600/600 [00:09<00:00, 65.58it/s]\n"
     ]
    }
   ],
   "source": [
    "# ======================================== Step 1:Initialization =======================================\n",
    "Num_epochs = 600                         # Policy evaluation\n",
    "gamma = 0.999\n",
    "V = np.zeros((np.size(all_states, 0)))\n",
    "policy = (1 / all_actions.shape[0]) * np.ones((all_actions.shape[0], 1))\n",
    "# ====================================== Step 2:Policy Evaluation =======================================\n",
    "for i in tqdm(range(0, Num_epochs), desc='Number Epochs:'):\n",
    "    v = np.copy(V)\n",
    "\n",
    "    for j in range(0,np.size(all_states, 0)):\n",
    "        if (all_states[j, :]==end_point).all():\n",
    "            continue\n",
    "        Sum = 0\n",
    "        for k in range(0, np.size(all_actions, 0)):\n",
    "            [new_state, reward] = environment(all_states, all_states[j,:], all_actions[k,:], end_point)   # Environment\n",
    "            ind = np.argmax(np.sum(np.equal(all_states, new_state),axis=1))\n",
    "            Sum = Sum +  policy[k]*(reward + gamma*V[ind])\n",
    "        V[j] = Sum\n",
    "    if np.linalg.norm(V-v) < 1e-4:\n",
    "        break\n",
    "# ===================================== Step 3:Policy Improvement =======================================\n",
    "policy = np.zeros((np.size(all_states, 0), 1), dtype=int)   # Policy improvement: selection of the best action; Down(1) Up(2) Right(3) Left(4)\n",
    "for j in range(0,np.size(all_states , 0)):\n",
    "    vector = np.zeros((np.size(all_actions , 0),1))\n",
    "    for k in range(0, np.size(all_actions , 0)):\n",
    "        [new_state, reward] = environment (all_states, all_states[j,:], all_actions[k,:], end_point)   # Environment\n",
    "        ind = np.argmax(np.sum(np.equal( all_states, new_state),axis=1))\n",
    "        vector[k] = reward + gamma*V[ind]\n",
    "    ind = np.where(vector==np.max(vector))[0]\n",
    "    policy[j] = ind[np.random.randint(low=0, high=len(ind), size=1)]"
   ],
   "metadata": {
    "collapsed": false,
    "pycharm": {
     "name": "#%%\n"
    }
   }
  },
  {
   "cell_type": "code",
   "execution_count": 20,
   "outputs": [
    {
     "data": {
      "text/plain": "<Figure size 324x324 with 1 Axes>",
      "image/png": "[encoded data removed]"
     },
     "metadata": {
      "needs_background": "light"
     },
     "output_type": "display_data"
    }
   ],
   "source": [
    "# ==================================== Step 4:Plot Value prediction ======================================\n",
    "dis = 1                                  # dis = 1: Show plot\n",
    "plot_gif = 0                             # plot_gif = 1 : Save plots\n",
    "type = 'Iterative policy'\n",
    "[states, rewards, actions] = plot(plan, all_states, all_actions, policy, start_point, Num_epochs, end_point, gamma, type, dis, plot_gif)"
   ],
   "metadata": {
    "collapsed": false,
    "pycharm": {
     "name": "#%%\n"
    }
   }
  },
  {
   "cell_type": "markdown",
   "source": [
    "**Policy Iteration (using iterative policy evaluation) for estimating** $\\pi \\approx \\pi_.$:\n",
    "$\\pi_0$  $\\underrightarrow{E}$  $\\nu_{\\pi_0}$  $\\underrightarrow{I}$  $\\pi_1$ $\\underrightarrow{E} ... \\underrightarrow{I}$ $\\pi_*$  $\\underrightarrow{E}$  $\\nu_*$\n",
    "**1. Initialization:**\n",
    "$V(s)\\epsilon R$ *and* $\\pi(s) \\epsilon A(s)$ *arbitrarily for all $ s \\epsilon S$*\n",
    "**2. Policy Evaluation:**\n",
    "*Loop:*\n",
    "  $\\Delta \\leftarrow 0$\n",
    "  *Loop for each $s\\epsilon S$*\n",
    "  $\\nu \\leftarrow V(s)$\n",
    "  $V(s) \\leftarrow \\sum_{s^.,r}p(s^.,r|s,\\pi(s))[r+\\lambda V_{\\pi}(s^.)]$\n",
    "  $\\Delta \\leftarrow max(\\Delta,|\\nu-V(s)|)$\n",
    "  *until* $\\Delta < \\theta$ *(a small positive number determining the accuracy of estimation)*\n",
    "**3. Policy Improvement:**\n",
    "*policy_stable* $\\leftarrow$ *true(1)*\n",
    "*For each* $s \\epsilon S$:\n",
    "  old_action $\\leftarrow \\pi(s)$\n",
    "  $\\pi(s) \\leftarrow argmax_a \\sum_{s^.,r}p(s^.,r|s,a)[r+\\lambda V_{\\pi}(s^.)]$\n",
    "  *If old_action* $\\neq \\pi(s)$, *then policy_stable* $\\leftarrow false(0)$\n",
    "*If policy_stable, then stop and return* $V \\approx \\nu_*$  *and*  $\\pi \\approx \\pi_*$; *else go to 2*"
   ],
   "metadata": {
    "collapsed": false,
    "pycharm": {
     "name": "#%% md\n"
    }
   }
  },
  {
   "cell_type": "code",
   "execution_count": 36,
   "outputs": [
    {
     "name": "stderr",
     "output_type": "stream",
     "text": [
      "Number Iteration:: 100%|██████████| 100/100 [00:02<00:00, 38.53it/s]\n"
     ]
    }
   ],
   "source": [
    "# ======================================== Step 1:Initialization =======================================\n",
    "Num_epochs = 600                         # Policy evaluation\n",
    "gamma = 0.15\n",
    "V = np.zeros((np.size(all_states,0)))\n",
    "policy = np.random.randint(low=0, high=all_actions.shape[0], size=all_states.shape[0])\n",
    "P = 100              # Policy iteration\n",
    "\n",
    "for p in tqdm(range(0, P), desc='Number Iteration:'):\n",
    "# ====================================== Step 2:Policy Evaluation =======================================\n",
    "    for i in range(0, Num_epochs):\n",
    "        v = np.copy(V)\n",
    "        for j in range(0, np.size(all_states, 0)):\n",
    "            if (all_states[j, :] == end_point).all():\n",
    "                continue\n",
    "\n",
    "            [new_state, reward] = environment(all_states, all_states[j, :], all_actions[policy[j].item(), :], end_point)  # Environment\n",
    "            ind = np.argmax(np.sum(np.equal(all_states, new_state), axis=1))\n",
    "            V[j] = reward + gamma*V[ind]\n",
    "\n",
    "        if np.linalg.norm(V - v) < 1e-4:\n",
    "            break\n",
    "# ===================================== Step 3:Policy Improvement =======================================\n",
    "    policy = np.zeros((all_states.shape[0], 1), dtype=int)\n",
    "    for r in range(0, np.size(all_states, 0)):\n",
    "        vector = np.zeros((np.size(all_actions, 0), 1))\n",
    "        for k in range(0, np.size(all_actions, 0)):\n",
    "            [new_state2, reward2] = environment(all_states, all_states[r, :], all_actions[k, :], end_point)  # Environment\n",
    "            ind = np.argmax(np.sum(np.equal(all_states, new_state2), axis=1))\n",
    "            vector[k] = reward2 + gamma * V[ind]\n",
    "        ind2 = np.where(vector == np.max(vector))[0]\n",
    "        policy[r] = ind2[np.random.randint(low=0, high=len(ind2), size=1)]"
   ],
   "metadata": {
    "collapsed": false,
    "pycharm": {
     "name": "#%%\n"
    }
   }
  },
  {
   "cell_type": "code",
   "execution_count": 37,
   "outputs": [
    {
     "data": {
      "text/plain": "<Figure size 324x324 with 1 Axes>",
      "image/png": "[encoded data removed]"
     },
     "metadata": {
      "needs_background": "light"
     },
     "output_type": "display_data"
    }
   ],
   "source": [
    "# ==================================== Step 4:Plot Policy Iteration ======================================\n",
    "dis = 1                                  # dis = 1: Show plot\n",
    "plot_gif = 0                             # plot_gif = 1 : Save plots\n",
    "type = 'Policy iteration'\n",
    "[states, rewards, actions] = plot(plan, all_states, all_actions, policy, start_point, Num_epochs, end_point, gamma, type, dis, plot_gif)"
   ],
   "metadata": {
    "collapsed": false,
    "pycharm": {
     "name": "#%%\n"
    }
   }
  },
  {
   "cell_type": "markdown",
   "source": [
    "**Value Iteration, for estimating** $\\pi \\approx \\pi_.$:\n",
    "*Algorithm parameter: a small threshold $\\theta > 0$ determining accuracy of estimation*\n",
    "*Initialize V(s), for all $s\\epsilon S^+$, arbitrarily expect that $V(terminal) = 0$*\n",
    "*Loop:*\n",
    "  $\\Delta \\leftarrow 0$\n",
    "  *Loop for each $s\\epsilon S$*\n",
    "  $\\nu \\leftarrow V(s)$\n",
    "  $V(s) \\leftarrow max_a \\sum_{s^.,r}p(s^.,r|s,a)[r+\\lambda V(s^.)]$\n",
    "  $\\Delta \\leftarrow max(\\Delta,|\\nu-V(s)|)$\n",
    "  *until* $\\Delta < \\theta$\n",
    "  *Output a deterministic policy,* $\\pi \\approx \\pi_*$, *such that*\n",
    "  $\\pi(s) = argmax_a \\sum_{s^.,r}p(s^.,r|s,a)[r+\\lambda V(s^.)]$"
   ],
   "metadata": {
    "collapsed": false,
    "pycharm": {
     "name": "#%% md\n"
    }
   }
  },
  {
   "cell_type": "code",
   "execution_count": 64,
   "outputs": [
    {
     "name": "stderr",
     "output_type": "stream",
     "text": [
      "Number Epochs::   2%|▏         | 12/600 [00:00<00:10, 55.59it/s]\n"
     ]
    }
   ],
   "source": [
    "# ======================================== Step 1:Initialization =======================================\n",
    "gamma = 0.35\n",
    "Num_epochs = 600                         # Policy evaluation\n",
    "V = np.zeros((np.size(all_states,0)))\n",
    "for i in tqdm(range(0, Num_epochs), desc='Number Epochs:'):\n",
    "    v = np.copy(V)\n",
    "# ====================================== Step 2:Policy Evaluation =======================================\n",
    "    for j in range(0, np.size(all_states, 0)-1):\n",
    "        vector = np.zeros((np.size(all_actions, 0), 1))\n",
    "\n",
    "        for k in range(0, np.size(all_actions, 0)):\n",
    "            [new_state, reward] = environment(all_states, all_states[j, :], all_actions[k, :], end_point)  # Environment\n",
    "            ind = np.argmax(np.sum(np.equal(all_states, new_state), axis=1))\n",
    "            vector[k] = reward + gamma * V[ind]\n",
    "        V[j] = np.max(vector)\n",
    "    if np.linalg.norm(V - v) < 1e-4:\n",
    "        break\n",
    "# ===================================== Step 3:Policy Improvement =======================================\n",
    "policy = np.zeros((np.size(all_states, 0), 1), dtype=int)  # Policy improvement: selection of the best action; Down(1) Up(2) Right(3) Left(4)\n",
    "for j in range(0, np.size(all_states, 0)):\n",
    "    vector = np.zeros((np.size(all_actions, 0), 1))\n",
    "    for k in range(0, np.size(all_actions, 0)):\n",
    "        [new_state, reward] = environment(all_states, all_states[j, :], all_actions[k, :], end_point)  # Environment\n",
    "        ind = np.argmax(np.sum(np.equal(all_states, new_state), axis=1))\n",
    "        vector[k] = reward + gamma * V[ind]\n",
    "    ind = np.where(vector == np.max(vector))[0]\n",
    "    policy[j] = ind[np.random.randint(low=0, high=len(ind), size=1)]"
   ],
   "metadata": {
    "collapsed": false,
    "pycharm": {
     "name": "#%%\n"
    }
   }
  },
  {
   "cell_type": "code",
   "execution_count": 65,
   "outputs": [
    {
     "data": {
      "text/plain": "<Figure size 324x324 with 1 Axes>",
      "image/png": "[encoded data removed]"
     },
     "metadata": {
      "needs_background": "light"
     },
     "output_type": "display_data"
    }
   ],
   "source": [
    "# ==================================== Step 4:Plot Value Iteration =======================================\n",
    "dis = 1                                  # dis = 1: Show plot\n",
    "plot_gif = 0                             # plot_gif = 1 : Save plots\n",
    "type = 'Value iteration'\n",
    "[states, rewards, actions] = plot(plan, all_states, all_actions, policy, start_point, Num_epochs, end_point, gamma, type, dis, plot_gif)"
   ],
   "metadata": {
    "collapsed": false,
    "pycharm": {
     "name": "#%%\n"
    }
   }
  },
  {
   "cell_type": "markdown",
   "source": [
    "**Factored Markov Decision Processes (FMDPs):**\n",
    "$p(s^.,r|s,a)=Pr[S_t=s^., R_t=r|S_{t-1}=s, A_{t-1}=a]=\\sum_{r\\epsilon R}p(s^.,r|s,a) \\rightarrow [0,1]$\n",
    "$r(s,a)=E[R_t|S_{t-1}=s, A_{t-1}=a]=\\sum_{r\\epsilon R}r \\sum_{s^.\\epsilon S}p(s^.,r|s,a)$\n",
    "$r(s,a,s^.)=E[R_t|S_{t-1}=s, A_{t-1}=a,S_t=s^.]=\\sum_{r\\epsilon R}r$ ${p(s^.,r|s,a)} \\over{p(s^.|s,a)}$\n",
    "**Return G equation**\n",
    "$G_t = r_{t+1}+\\lambda r_{t+2}+\\lambda^2r_{t+3}+... = \\sum_{j=0}^T \\lambda^jr_{t+j+1}=r_{t+1}+\\lambda(G_{t+1})$;  *t=time step*\n",
    "**V-function: the value of the state**\n",
    "$V_{\\pi}(s) = E_{\\pi}[G_t|s=s_t] = E_{\\pi}[\\sum_{j=0}^T \\lambda^jr_{t+j+1}|s=s_t]$\n",
    "**Q-function: The value of the action**\n",
    "$Q_{\\pi}(s, a) = E_{\\pi}[G_t|S_t=s, A_t=a] = E_{\\pi}[\\sum_{j=0}^T \\lambda^jr_{t+j+1}|St=s, A_t=a]$\n",
    "**Bellman equation for the State-value function**\n",
    "$V_{\\pi}(s) = \\sum_{a}\\pi(a|s).\\sum_{s^.}P_{ss^.}^a(r(s,a)+\\lambda V_{\\pi}(s.))= \\sum_{a}\\pi(a|s).\\sum_{s^.,r}p(s^.,r|s,a)[r+\\lambda V_{\\pi}(s^.)]$\n",
    "**Bellman equation for the Action-value function**\n",
    "$Q_{\\pi}(s, a) = \\sum_{s^.}P_{ss^.}^a(r(s,a)+\\lambda.\\sum_{a.}\\pi(a^.|s^.).Q_{\\pi}(s^., a^.)) = \\sum_{s^.}P_{ss^.}^a(r(s,a)+\\lambda  V_{\\pi}(s^.))$\n",
    "**Bellman equation of optimality**\n",
    "$V_*(s) = max_a\\sum_{s^.}P_{ss^.}^a(r(s,a)+\\lambda V_*(s^.))$\n",
    "$Q_*(s, a) = \\sum_{s^.}P_{ss^.}^a(r(s,a)+\\lambda max_{a^.}Q_*(s^.,a^.))$"
   ],
   "metadata": {
    "collapsed": false,
    "pycharm": {
     "name": "#%% md\n"
    }
   }
  },
  {
   "cell_type": "code",
   "execution_count": null,
   "outputs": [],
   "source": [],
   "metadata": {
    "collapsed": false,
    "pycharm": {
     "name": "#%%\n"
    }
   }
  }
 ],
 "metadata": {
  "kernelspec": {
   "display_name": "Python 3",
   "language": "python",
   "name": "python3"
  },
  "language_info": {
   "codemirror_mode": {
    "name": "ipython",
    "version": 2
   },
   "file_extension": ".py",
   "mimetype": "text/x-python",
   "name": "python",
   "nbconvert_exporter": "python",
   "pygments_lexer": "ipython2",
   "version": "2.7.6"
  }
 },
 "nbformat": 4,
 "nbformat_minor": 0
}