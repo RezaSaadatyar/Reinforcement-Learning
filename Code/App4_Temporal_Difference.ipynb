{
 "cells": [
  {
   "cell_type": "markdown",
   "source": [
    "*Reinforcement learning (2023-2024)*\n",
    " - Temporal Difference (TD)\n",
    " - SARSA Algorithm\n",
    " - Q-Learning Algorithm\n",
    "\n",
    "*Presented by: Reza Saadatyar*\n",
    "*E-mail: Reza.Saadatyar92@gmail.com*"
   ],
   "metadata": {
    "collapsed": false,
    "pycharm": {
     "name": "#%% md\n"
    }
   }
  },
  {
   "cell_type": "code",
   "execution_count": 93,
   "outputs": [],
   "source": [
    "import time\n",
    "import imageio\n",
    "import numpy as np\n",
    "from tqdm import tqdm\n",
    "import matplotlib.pyplot as plt\n",
    "from IPython.display import display, clear_output"
   ],
   "metadata": {
    "collapsed": false,
    "pycharm": {
     "name": "#%%\n"
    }
   }
  },
  {
   "cell_type": "markdown",
   "source": [
    "**Functions**"
   ],
   "metadata": {
    "collapsed": false,
    "pycharm": {
     "name": "#%% md\n"
    }
   }
  },
  {
   "cell_type": "code",
   "execution_count": 303,
   "outputs": [],
   "source": [
    "# ================================================ Environment ========================================\n",
    "def environment (all_states, all_states_j, all_actions_k, terminal_state):\n",
    "    state1, state2 = all_states_j\n",
    "    action1, action2 = all_actions_k                            # Plane velocity in vertical and horizontal directions\n",
    "    new_state = [state1 + action1, state2 + action2]\n",
    "    if np.sum(np.all(np.equal(new_state, all_states), axis=1)): # Check new state in all states\n",
    "        if (new_state == terminal_state).all():\n",
    "            reward = 10\n",
    "        else:\n",
    "            reward = -1\n",
    "    else:\n",
    "        new_state = all_states_j\n",
    "        reward = -10\n",
    "    return new_state, reward\n",
    "# ================================================== Plot ==============================================\n",
    "def plot(plan, all_states, all_actions,policy, FinalTimeStep,gamma, epsilon, dis, start_state, terminal_state, Q_prediction, alpha, type, plot_gif):\n",
    "    !mkdir Images\n",
    "    if plot_gif:\n",
    "        FinalTimeStep = plan.shape[0]*plan.shape[1]\n",
    "\n",
    "    states = np.zeros((FinalTimeStep , 2), dtype=int)\n",
    "    actions = np.zeros((FinalTimeStep , 2),  dtype=int)\n",
    "    rewards = np.zeros((FinalTimeStep , 1))\n",
    "    i = 0\n",
    "    if np.size(start_state)==2:\n",
    "        states[0 , :] = start_state\n",
    "    else:\n",
    "        states[0,:]=start_state[0,0:2]\n",
    "    if dis:\n",
    "        fig, ax = plt.subplots(figsize=(4,4))\n",
    "    filenames = []\n",
    "\n",
    "    while 1:\n",
    "        if i > FinalTimeStep -2:\n",
    "            break\n",
    "        if dis:\n",
    "            plan2 = np.copy(plan)\n",
    "            plan2[states[i, 0], states[i, 1]] = 3  # 3: Change the color start state\n",
    "            plan2[terminal_state[0], terminal_state[1]] = 2  # 2: Change the color terminal state\n",
    "            ax.cla()\n",
    "            ax.imshow(plan2, cmap='winter')\n",
    "            plt.title([f\"gamma: {gamma}; alpha: {alpha}; Time Step {i}; {type}\"],fontsize=8)\n",
    "            plt.text(start_state[1] - 0.4, start_state[0], 'Start', fontsize=10, color='r', fontweight='bold')\n",
    "            plt.text(terminal_state[1] - 0.3, terminal_state[0], 'End', fontsize=10, color='r', fontweight='bold')\n",
    "            display(fig)\n",
    "            clear_output(wait=True)\n",
    "            if i == 0:\n",
    "               time.sleep(1)\n",
    "            else:\n",
    "               time.sleep(0.3)\n",
    "\n",
    "            if plot_gif:\n",
    "                filename = f'Images/{i}.png'\n",
    "                filenames.append(filename)\n",
    "                plt.savefig(filename, facecolor='white', )\n",
    "\n",
    "        if np.random.rand(1)>epsilon:\n",
    "            Ind = policy[np.argmax(np.sum(np.equal(all_states, states[i, :]), axis=1))]\n",
    "        else:\n",
    "            Ind = np.random.randint(low=0, high=all_actions.shape[0], size=1)\n",
    "\n",
    "        if (Q_prediction==1) and (i==0):\n",
    "            actions[i, :] = start_state[0,2:4]\n",
    "        else:\n",
    "            actions[i, :] = all_actions[Ind, :]\n",
    "\n",
    "        [states[i + 1], rewards[i + 1, :]] = environment(all_states, states[i, :], actions[i, :], terminal_state)  # Environment\n",
    "\n",
    "        if (states[i + 1, :] == terminal_state).all():\n",
    "            if dis:\n",
    "                plan2 = np.copy(plan)\n",
    "                plan2[states[i + 1, 0], states[i + 1, 1]] = 3\n",
    "                plan2[terminal_state[0], terminal_state[1]] = 2\n",
    "                plt.imshow(plan2, cmap='winter')\n",
    "                plt.title([f\"gamma: {gamma}; alpha: {alpha}; Time Step {i}; {type}\"], fontsize=8)\n",
    "                if plot_gif:\n",
    "                    filename = f'Images/{i+1}.png'\n",
    "                    filenames.append(filename)\n",
    "                    plt.savefig(filename, facecolor='white')\n",
    "            break\n",
    "        i = i + 1\n",
    "\n",
    "    states = np.delete(states, slice(i + 2, states.shape[0]), 0)\n",
    "    rewards = (np.delete(rewards, slice(i + 2, rewards.shape[0]), 0)).flatten()\n",
    "    actions = np.delete(actions, slice(i + 2, actions.shape[0]), 0)\n",
    "\n",
    "    if plot_gif:\n",
    "        with imageio.get_writer(f\"Images/{type}; gamma({gamma}); alpha({alpha}).gif\", mode='I') as writer:    # Save gif format\n",
    "         for filename in filenames:\n",
    "             image = imageio.v2.imread(filename)\n",
    "             writer.append_data(image)\n",
    "\n",
    "    return states, rewards, actions, filenames"
   ],
   "metadata": {
    "collapsed": false,
    "pycharm": {
     "name": "#%%\n"
    }
   }
  },
  {
   "cell_type": "code",
   "execution_count": 297,
   "outputs": [
    {
     "data": {
      "text/plain": "<matplotlib.image.AxesImage at 0x1e3556d1d50>"
     },
     "execution_count": 297,
     "metadata": {},
     "output_type": "execute_result"
    },
    {
     "data": {
      "text/plain": "<Figure size 432x288 with 1 Axes>",
      "image/png": "[encoded data removed]"
     },
     "metadata": {
      "needs_background": "light"
     },
     "output_type": "display_data"
    }
   ],
   "source": [
    "run_q_table = 2                  # 1, 2\n",
    "if run_q_table == 1:\n",
    "    plan_size = 7\n",
    "    plan = np.ones((plan_size, plan_size))  # 1:free; 0: barrier\n",
    "    plan[0, 1] = 0\n",
    "    plan[1, [3, 4, 6]] = 0\n",
    "    plan[2, [0, 1, 2, 6]] = 0\n",
    "    plan[3, [4, 5]] = 0\n",
    "    plan[4, [1, 2, 3]] = 0\n",
    "    plan[5, 1] = 0\n",
    "    plan[6, 3] = 0\n",
    "else:\n",
    "    plan_size = 9\n",
    "    plan = np.ones((plan_size, plan_size))  # 1:free; 0: barrier\n",
    "    plan[0:2,0:2] = 0\n",
    "    plan[1:9, 4] = 0\n",
    "    plan[1 ,[3, 4, 6, 7, 8]] = 0\n",
    "    plan[2, 1] = 0\n",
    "    plan[4 ,[0, 2, 3, 4, 5, 7, 8]] = 0\n",
    "    plan[8, [2,3,5, 8]] = 0\n",
    "\n",
    "plt.imshow(plan, cmap='winter')            # 'winter', 'prism', 'spring'"
   ],
   "metadata": {
    "collapsed": false,
    "pycharm": {
     "name": "#%%\n"
    }
   }
  },
  {
   "cell_type": "code",
   "execution_count": 306,
   "outputs": [],
   "source": [
    "all_states = np.array((np.where(plan.T==1)[1], np.where(plan.T==1)[0]))\n",
    "all_states = all_states.T\n",
    "all_actions = np.array([[1, 0],[-1, 0],[0, 1],[0, -1]])       # Down(1) Up(2) Right(3) Left(4)\n",
    "start_state = [8, 0]                                          # Start point\n",
    "terminal_state = np.array([8, 7])                             # End point"
   ],
   "metadata": {
    "collapsed": false,
    "pycharm": {
     "name": "#%%\n"
    }
   }
  },
  {
   "cell_type": "markdown",
   "source": [
    "**TD(0) algorithm:**\n",
    "*Input: the policy* $\\pi$ *to be evaluated*\n",
    "*Algorithm parameter: step size* $\\alpha \\epsilon (0, 1]$\n",
    "*Initialize V(s), for all* $s \\epsilon S^+$, *arbitrarily expect that V(terminal)=0*\n",
    "*Loop for each episode:*\n",
    "*Initialize S*\n",
    "*Loop for each step of episode:*\n",
    "$A \\leftarrow$ *action given by* $\\pi$ *for S*\n",
    "*Take action A, observe R,* $S^.$\n",
    "$V(S) \\leftarrow V(S) + \\alpha[R+\\lambda V(S^.)-V(S)]$\n",
    "$S \\leftarrow S^.$\n",
    "*untile S is terminal*"
   ],
   "metadata": {
    "collapsed": false,
    "pycharm": {
     "name": "#%% md\n"
    }
   }
  },
  {
   "cell_type": "code",
   "execution_count": 299,
   "outputs": [
    {
     "name": "stderr",
     "output_type": "stream",
     "text": [
      "Number Epochs:: 100%|██████████| 500/500 [01:03<00:00,  7.87it/s]\n"
     ]
    }
   ],
   "source": [
    "# ======================================== Step 1:Initialization =======================================\n",
    "alpha = 0.1\n",
    "gamma = 0.999\n",
    "Num_epochs = 500                         # Policy evaluation\n",
    "V = np.zeros((np.size(all_states, 0)))\n",
    "# ====================================== Step 2:Policy Evaluation =======================================\n",
    "for i in tqdm(range(0, Num_epochs), desc='Number Epochs:'):\n",
    "    v = np.copy(V)\n",
    "    state = all_states[np.random.randint(low=0, high=len(all_states)-1, size=1),:]\n",
    "    state = state.flatten()\n",
    "    while 1:\n",
    "        action = all_actions[np.random.randint(low=0, high=len(all_actions), size=1),:]\n",
    "        action = action.flatten()\n",
    "        [new_state, reward] = environment (all_states, state, action, terminal_state)    # Environment\n",
    "        ind = np.argmax(np.sum(np.equal(all_states, state),axis=1))\n",
    "        ind_new = np.argmax(np.sum(np.equal(all_states, new_state),axis=1))\n",
    "        V[ind] = V[ind] + alpha*(reward + gamma*V[ind_new]-V[ind])\n",
    "        state = new_state\n",
    "\n",
    "        if (state==terminal_state).all():\n",
    "            break\n",
    "    if np.linalg.norm(V-v) < 1e-2:\n",
    "        break\n",
    "# ===================================== Step 3:Policy Improvement =======================================\n",
    "policy = np.zeros((np.size(all_states, 0), 1), dtype=int)   # Policy improvement: selection of the best action; Down(1) Up(2) Right(3) Left(4)\n",
    "for j in range(0,np.size(all_states , 0)):\n",
    "    vector = np.zeros((np.size(all_actions , 0),1))\n",
    "    for k in range(0, np.size(all_actions , 0)):\n",
    "        [new_state, reward] = environment (all_states, all_states[j,:], all_actions[k,:], terminal_state)   # Environment\n",
    "        ind = np.argmax(np.sum(np.equal( all_states, new_state),axis=1))\n",
    "        vector[k] = reward + gamma*V[ind]\n",
    "    ind = np.where(vector==np.max(vector))[0]\n",
    "    policy[j] = ind[np.random.randint(low=0, high=len(ind), size=1)]"
   ],
   "metadata": {
    "collapsed": false,
    "pycharm": {
     "name": "#%%\n"
    }
   }
  },
  {
   "cell_type": "code",
   "execution_count": 307,
   "outputs": [
    {
     "data": {
      "text/plain": "<Figure size 288x288 with 1 Axes>",
      "image/png": "[encoded data removed]"
     },
     "metadata": {
      "needs_background": "light"
     },
     "output_type": "display_data"
    }
   ],
   "source": [
    "# ====================================== Step 4:Plot TD(0) Algorithm======================================\n",
    "dis = 1                                  # dis = 1: Show plot\n",
    "epsilon = 0\n",
    "plot_gif = 0                             # plot_gif = 1 : Save plots\n",
    "type = 'TD(0)'\n",
    "Q_prediction = 0\n",
    "FinalTimeStep =1000000\n",
    "[states, rewards, actions, filenames] = plot(plan, all_states, all_actions,policy, FinalTimeStep,gamma, epsilon, dis, start_state, terminal_state, Q_prediction, alpha, type, plot_gif)"
   ],
   "metadata": {
    "collapsed": false,
    "pycharm": {
     "name": "#%%\n"
    }
   }
  },
  {
   "cell_type": "markdown",
   "source": [
    "**Q-Learning algorithm**\n",
    "*Algorithm parameters: step size* $\\alpha \\epsilon (0, 1]$, *small* $\\epsilon > 0$\n",
    "*Initialize Q(s,a), for all* $s \\epsilon S^+, a\\epsilon A(s)$, *arbitrarily expect that Q(terminal, .)=0*\n",
    "*Loop for each episode:*\n",
    "*Initialize S*\n",
    "*Loop for each step of episode:*\n",
    "*Choose A from S using policy derived from Q(e.g., e-greedy)*\n",
    "*Take action A, observe R,* $S^.$\n",
    "*Choose* $A^.$ *from* $S^.$ *using policy derived from Q(e.g., e-greedy)*\n",
    "$Q(S,A) \\leftarrow Q(S,A) + \\alpha[R+\\lambda max_a Q(S^., a)-Q(S, A)]$\n",
    "$S \\leftarrow S^.$\n",
    "*until S is terminal*"
   ],
   "metadata": {
    "collapsed": false,
    "pycharm": {
     "name": "#%% md\n"
    }
   }
  },
  {
   "cell_type": "code",
   "execution_count": 312,
   "outputs": [
    {
     "name": "stderr",
     "output_type": "stream",
     "text": [
      "Number Epochs:: 100%|██████████| 500/500 [00:56<00:00,  8.83it/s]\n"
     ]
    }
   ],
   "source": [
    "# ======================================== Step 1:Initialization ========================================\n",
    "alpha = 0.1                # Learning rate or step size determines to what extent newly acquired information overrides old information\n",
    "gamma = 0.8                # Discount factor or gamma determines the importance of future rewards\n",
    "epsilon = 0.9\n",
    "Num_epochs = 500\n",
    "FinalTimeStep =1000000\n",
    "\n",
    "num_action = all_actions.shape[0]\n",
    "state_actionPais = np.zeros((all_states.shape[0] * all_actions.shape[0], 4), dtype=int)\n",
    "for i in range(0, all_states.shape[0]):\n",
    "    state_actionPais[num_action * i:num_action + 4 * i, :] = np.concatenate((np.tile(all_states[i, :], (4, 1)), all_actions), axis=1)\n",
    "\n",
    "counter = np.zeros((state_actionPais.shape[0], 1))\n",
    "Q = np.zeros((state_actionPais.shape[0], 1))\n",
    "policy = np.random.randint(low=0, high=all_actions.shape[0], size=all_states.shape[0])\n",
    "# ====================================== Step 2:Policy Evaluation =======================================\n",
    "for i in tqdm(range(0, Num_epochs), desc='Number Epochs:'):\n",
    "    state = all_states[np.random.randint(low=0, high=len(all_states)-1, size=1),:]\n",
    "    state = state.flatten()\n",
    "    while 1:\n",
    "        if np.random.rand(1)>epsilon:\n",
    "            Ind = policy[np.argmax(np.sum(np.equal(all_states, state),axis=1))]\n",
    "        else:\n",
    "            Ind = np.random.randint(low=0, high=all_actions.shape[0], size=1)\n",
    "\n",
    "        [new_state, reward] = environment (all_states, state, all_actions[Ind.item(), :], terminal_state)    # Environment\n",
    "\n",
    "        state_action = np.concatenate((state, all_actions[Ind.item(),:]), axis=0)\n",
    "        ind = np.argmax(np.sum(np.equal(state_actionPais, state_action), axis=1))\n",
    "        ind_new = np.where(np.sum(np.equal(state_actionPais[:, 0:2], new_state), axis=1) == 2)[0]\n",
    "        Q[ind] = Q[ind] + alpha*(reward + gamma*np.max(Q[ind_new])-Q[ind])\n",
    "        state = new_state\n",
    "# ===================================== Step 3:Policy Improvement =======================================\n",
    "        policy = np.zeros((np.size(all_states, 0), 1), dtype=int)\n",
    "        for k in range(0,np.size(all_states, 0)):\n",
    "            Q_ = Q[num_action*k:num_action+4*k]\n",
    "            Ind = np.where(Q_==np.max(Q_))[0]\n",
    "            policy[k] = Ind[np.random.randint(low=0, high=len(Ind), size=1)]\n",
    "\n",
    "        if (state==terminal_state).all():\n",
    "            break\n",
    "    epsilon = epsilon*0.97"
   ],
   "metadata": {
    "collapsed": false,
    "pycharm": {
     "name": "#%%\n"
    }
   }
  },
  {
   "cell_type": "code",
   "execution_count": 314,
   "outputs": [
    {
     "data": {
      "text/plain": "<Figure size 288x288 with 1 Axes>",
      "image/png": "[encoded data removed]"
     },
     "metadata": {
      "needs_background": "light"
     },
     "output_type": "display_data"
    }
   ],
   "source": [
    "# =================================== Step 4:Plot Q-Learning Algorithm ==================================\n",
    "dis = 1                                  # dis = 1: Show plot\n",
    "epsilon = 0\n",
    "plot_gif = 1                             # plot_gif = 1 : Save plots\n",
    "type = 'Q_learning'\n",
    "Q_prediction = 0\n",
    "FinalTimeStep =1000000\n",
    "[states, rewards, actions, filenames] = plot(plan, all_states, all_actions,policy, FinalTimeStep,gamma, epsilon, dis, start_state, terminal_state, Q_prediction, alpha, type, plot_gif)"
   ],
   "metadata": {
    "collapsed": false,
    "pycharm": {
     "name": "#%%\n"
    }
   }
  },
  {
   "cell_type": "markdown",
   "source": [
    "**SARSA algorithm**\n",
    "*Algorithm parameters: step size* $\\alpha \\epsilon (0, 1]$, *small* $\\epsilon > 0$\n",
    "*Initialize Q(s,a), for all* $s \\epsilon S^+, a\\epsilon A(s)$, *arbitrarily expect that Q(terminal, .)=0*\n",
    "*Loop for each episode:*\n",
    "*Initialize S*\n",
    "*Choose A from S using policy derived from Q(e.g., e-greedy)*\n",
    "*Loop for each step of episode:*\n",
    "  *Take action A, observe R,* $S^.$\n",
    "  *Choose* $A^.$ *from* $S^.$ *using policy derived from Q(e.g., e-greedy)*\n",
    "  $Q(S,A) \\leftarrow Q(S,A) + \\alpha[R+\\lambda Q(S^., A^.)-Q(S, A)]$\n",
    "$S \\leftarrow S^.; A\\leftarrow A^.$\n",
    "*until S is terminal*"
   ],
   "metadata": {
    "collapsed": false,
    "pycharm": {
     "name": "#%% md\n"
    }
   }
  }
 ],
 "metadata": {
  "kernelspec": {
   "display_name": "Python 3",
   "language": "python",
   "name": "python3"
  },
  "language_info": {
   "codemirror_mode": {
    "name": "ipython",
    "version": 2
   },
   "file_extension": ".py",
   "mimetype": "text/x-python",
   "name": "python",
   "nbconvert_exporter": "python",
   "pygments_lexer": "ipython2",
   "version": "2.7.6"
  }
 },
 "nbformat": 4,
 "nbformat_minor": 0
}